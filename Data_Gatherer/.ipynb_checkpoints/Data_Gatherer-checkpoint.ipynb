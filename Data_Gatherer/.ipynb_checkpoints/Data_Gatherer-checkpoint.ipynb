{
 "cells": [
  {
   "cell_type": "code",
   "execution_count": 5,
   "metadata": {},
   "outputs": [],
   "source": [
    "# This will be the module to retrieve our data and place it in a data frame.\n",
    "import pandas as pd\n",
    "csv_2009 = pd.read_csv(\"Attend_2009.csv\")\n",
    "csv_2010 = pd.read_csv(\"Attend_2010.csv\")\n",
    "csv_2011 = pd.read_csv(\"Attend_2011.csv\")\n",
    "csv_2012 = pd.read_csv(\"Attend_2012.csv\")\n",
    "csv_2013 = pd.read_csv(\"Attend_2013.csv\")\n",
    "csv_2015 = pd.read_csv(\"Attend_2015.csv\")\n",
    "csv_2016 = pd.read_csv(\"Attend_2016.csv\")\n",
    "csv_2017 = pd.read_csv(\"Attend_2017.csv\")\n",
    "csv_2018 = pd.read_csv(\"Attend_2018.csv\")\n",
    "\n",
    "csv_capacity = pd.read_csv(\"Park_Capacity_Year.csv\")"
   ]
  },
  {
   "cell_type": "code",
   "execution_count": null,
   "metadata": {},
   "outputs": [],
   "source": []
  }
 ],
 "metadata": {
  "kernelspec": {
   "display_name": "Python 3",
   "language": "python",
   "name": "python3"
  },
  "language_info": {
   "codemirror_mode": {
    "name": "ipython",
    "version": 3
   },
   "file_extension": ".py",
   "mimetype": "text/x-python",
   "name": "python",
   "nbconvert_exporter": "python",
   "pygments_lexer": "ipython3",
   "version": "3.7.3"
  }
 },
 "nbformat": 4,
 "nbformat_minor": 2
}
