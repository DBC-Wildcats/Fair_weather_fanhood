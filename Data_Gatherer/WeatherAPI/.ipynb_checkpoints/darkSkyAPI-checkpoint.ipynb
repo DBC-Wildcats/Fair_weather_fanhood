{
 "cells": [
  {
   "cell_type": "code",
   "execution_count": 1,
   "metadata": {},
   "outputs": [],
   "source": [
    "#NWU Data Science Boot Camp\n",
    "#Project 1\n",
    "#Weather data API script request\n",
    "\n",
    "\n",
    "#call modules and dependencies\n",
    "import pandas as pd\n",
    "import requests\n",
    "from config import apiKey, CHICAGO, BOSTON, WRIGLEY, FENWAY\n",
    "from pprint import pprint"
   ]
  },
  {
   "cell_type": "code",
   "execution_count": 2,
   "metadata": {},
   "outputs": [
    {
     "name": "stdout",
     "output_type": "stream",
     "text": [
      "https://api.darksky.net/forecast/f381ba0f851e4aa591ef44f34c79cb84/\n"
     ]
    }
   ],
   "source": [
    "keyIndex = 0\n",
    "baseURL = f\"https://api.darksky.net/forecast/{apiKey[keyIndex]}/\"#need to append {city},{time}\" string to baseURL in get\n",
    "print(baseURL)"
   ]
  },
  {
   "cell_type": "code",
   "execution_count": 3,
   "metadata": {},
   "outputs": [
    {
     "name": "stdout",
     "output_type": "stream",
     "text": [
      "CHI:\n",
      "\n",
      "['partly-cloudy-day', 'Mostly Cloudy', 46.31, 0]\n"
     ]
    }
   ],
   "source": [
    "#test api request format\n",
    "\n",
    "query = str(baseURL+f'{WRIGLEY}'+\",\"+\"2009-04-01T13:00:00\")\n",
    "response = requests.get(query).json()\n",
    "#pprint(response)\n",
    "print(f\"CHI:\\n\")\n",
    "pprint([response['currently']['icon'],response['currently']['summary'],response['currently']['temperature'],\n",
    "       response['currently']['precipIntensity']])"
   ]
  },
  {
   "cell_type": "code",
   "execution_count": 4,
   "metadata": {},
   "outputs": [],
   "source": [
    "#Lists for requests\n",
    "chiDay = []\n",
    "chiNight = []\n",
    "bosDay = []\n",
    "bosNight =  []"
   ]
  },
  {
   "cell_type": "code",
   "execution_count": 17,
   "metadata": {},
   "outputs": [
    {
     "name": "stdout",
     "output_type": "stream",
     "text": [
      "Printing:  2009.csv\n",
      "HEAD--\n",
      "  Team D/N  Attendance        Date\n",
      "0  BOS   D       37057  2009-04-07\n",
      "1  BOS   N       37552  2009-04-08\n",
      "2  BOS   D       37784  2009-04-09\n",
      "3  BOS   N       38266  2009-04-17\n",
      "4  BOS   N       37559  2009-04-18\n",
      "TAIL--\n",
      "    Team D/N  Attendance        Date\n",
      "156  CHC   D       34362  2009-09-30\n",
      "157  CHC   N       33299  2009-09-30\n",
      "158  CHC   D       33786  2009-10-02\n",
      "159  CHC   D       39138  2009-10-03\n",
      "160  CHC   D       39154  2009-10-04\n",
      "Team          161\n",
      "D/N           161\n",
      "Attendance    161\n",
      "Date          161\n",
      "dtype: int64\n",
      "[RangeIndex(start=0, stop=161, step=1), Index(['Team', 'D/N', 'Attendance', 'Date'], dtype='object')]\n",
      "_____________________________________\n",
      "_____________________________________\n",
      "\n",
      "\n",
      "\n"
     ]
    },
    {
     "ename": "KeyError",
     "evalue": "'Gm#'",
     "output_type": "error",
     "traceback": [
      "\u001b[1;31m---------------------------------------------------------------------------\u001b[0m",
      "\u001b[1;31mKeyError\u001b[0m                                  Traceback (most recent call last)",
      "\u001b[1;32m<ipython-input-17-7b1d1b7c1336>\u001b[0m in \u001b[0;36m<module>\u001b[1;34m\u001b[0m\n\u001b[0;32m     19\u001b[0m     \u001b[1;31m#request as per each row in the current in memory dataframe\u001b[0m\u001b[1;33m\u001b[0m\u001b[1;33m\u001b[0m\u001b[1;33m\u001b[0m\u001b[0m\n\u001b[0;32m     20\u001b[0m     \u001b[1;32mfor\u001b[0m \u001b[0mrow\u001b[0m \u001b[1;32min\u001b[0m \u001b[0mapiRequest\u001b[0m\u001b[1;33m:\u001b[0m\u001b[1;33m\u001b[0m\u001b[1;33m\u001b[0m\u001b[0m\n\u001b[1;32m---> 21\u001b[1;33m         \u001b[1;32mif\u001b[0m \u001b[1;33m(\u001b[0m\u001b[0mapiRequestDF\u001b[0m\u001b[1;33m[\u001b[0m\u001b[1;34m\"Team\"\u001b[0m\u001b[1;33m]\u001b[0m\u001b[1;33m[\u001b[0m\u001b[0mrow\u001b[0m\u001b[1;33m]\u001b[0m \u001b[1;33m==\u001b[0m \u001b[1;34m\"CHC\"\u001b[0m \u001b[1;32mand\u001b[0m \u001b[0mapiRequestDF\u001b[0m\u001b[1;33m[\u001b[0m\u001b[1;34m\"D/N\"\u001b[0m\u001b[1;33m]\u001b[0m\u001b[1;33m[\u001b[0m\u001b[0mrow\u001b[0m\u001b[1;33m]\u001b[0m \u001b[1;33m==\u001b[0m \u001b[1;34m'D'\u001b[0m\u001b[1;33m)\u001b[0m\u001b[1;33m:\u001b[0m\u001b[1;33m\u001b[0m\u001b[1;33m\u001b[0m\u001b[0m\n\u001b[0m\u001b[0;32m     22\u001b[0m             \u001b[0mqueryWrigleyD\u001b[0m \u001b[1;33m=\u001b[0m \u001b[0mbaseURL\u001b[0m\u001b[1;33m+\u001b[0m\u001b[1;34mf\"{WRIGLEY},\"\u001b[0m\u001b[1;33m+\u001b[0m\u001b[1;34mf'{apiRequestDF[\"Date\"][row]}'\u001b[0m\u001b[1;33m+\u001b[0m\u001b[1;34mf\"T13:00:00\"\u001b[0m\u001b[1;33m\u001b[0m\u001b[1;33m\u001b[0m\u001b[0m\n\u001b[0;32m     23\u001b[0m             \u001b[1;31m#responseWD = requests.get(queryWrigleyD).json()\u001b[0m\u001b[1;33m\u001b[0m\u001b[1;33m\u001b[0m\u001b[1;33m\u001b[0m\u001b[0m\n",
      "\u001b[1;32m~\\Anaconda3\\lib\\site-packages\\pandas\\core\\series.py\u001b[0m in \u001b[0;36m__getitem__\u001b[1;34m(self, key)\u001b[0m\n\u001b[0;32m   1066\u001b[0m         \u001b[0mkey\u001b[0m \u001b[1;33m=\u001b[0m \u001b[0mcom\u001b[0m\u001b[1;33m.\u001b[0m\u001b[0mapply_if_callable\u001b[0m\u001b[1;33m(\u001b[0m\u001b[0mkey\u001b[0m\u001b[1;33m,\u001b[0m \u001b[0mself\u001b[0m\u001b[1;33m)\u001b[0m\u001b[1;33m\u001b[0m\u001b[1;33m\u001b[0m\u001b[0m\n\u001b[0;32m   1067\u001b[0m         \u001b[1;32mtry\u001b[0m\u001b[1;33m:\u001b[0m\u001b[1;33m\u001b[0m\u001b[1;33m\u001b[0m\u001b[0m\n\u001b[1;32m-> 1068\u001b[1;33m             \u001b[0mresult\u001b[0m \u001b[1;33m=\u001b[0m \u001b[0mself\u001b[0m\u001b[1;33m.\u001b[0m\u001b[0mindex\u001b[0m\u001b[1;33m.\u001b[0m\u001b[0mget_value\u001b[0m\u001b[1;33m(\u001b[0m\u001b[0mself\u001b[0m\u001b[1;33m,\u001b[0m \u001b[0mkey\u001b[0m\u001b[1;33m)\u001b[0m\u001b[1;33m\u001b[0m\u001b[1;33m\u001b[0m\u001b[0m\n\u001b[0m\u001b[0;32m   1069\u001b[0m \u001b[1;33m\u001b[0m\u001b[0m\n\u001b[0;32m   1070\u001b[0m             \u001b[1;32mif\u001b[0m \u001b[1;32mnot\u001b[0m \u001b[0mis_scalar\u001b[0m\u001b[1;33m(\u001b[0m\u001b[0mresult\u001b[0m\u001b[1;33m)\u001b[0m\u001b[1;33m:\u001b[0m\u001b[1;33m\u001b[0m\u001b[1;33m\u001b[0m\u001b[0m\n",
      "\u001b[1;32m~\\Anaconda3\\lib\\site-packages\\pandas\\core\\indexes\\base.py\u001b[0m in \u001b[0;36mget_value\u001b[1;34m(self, series, key)\u001b[0m\n\u001b[0;32m   4728\u001b[0m         \u001b[0mk\u001b[0m \u001b[1;33m=\u001b[0m \u001b[0mself\u001b[0m\u001b[1;33m.\u001b[0m\u001b[0m_convert_scalar_indexer\u001b[0m\u001b[1;33m(\u001b[0m\u001b[0mk\u001b[0m\u001b[1;33m,\u001b[0m \u001b[0mkind\u001b[0m\u001b[1;33m=\u001b[0m\u001b[1;34m\"getitem\"\u001b[0m\u001b[1;33m)\u001b[0m\u001b[1;33m\u001b[0m\u001b[1;33m\u001b[0m\u001b[0m\n\u001b[0;32m   4729\u001b[0m         \u001b[1;32mtry\u001b[0m\u001b[1;33m:\u001b[0m\u001b[1;33m\u001b[0m\u001b[1;33m\u001b[0m\u001b[0m\n\u001b[1;32m-> 4730\u001b[1;33m             \u001b[1;32mreturn\u001b[0m \u001b[0mself\u001b[0m\u001b[1;33m.\u001b[0m\u001b[0m_engine\u001b[0m\u001b[1;33m.\u001b[0m\u001b[0mget_value\u001b[0m\u001b[1;33m(\u001b[0m\u001b[0ms\u001b[0m\u001b[1;33m,\u001b[0m \u001b[0mk\u001b[0m\u001b[1;33m,\u001b[0m \u001b[0mtz\u001b[0m\u001b[1;33m=\u001b[0m\u001b[0mgetattr\u001b[0m\u001b[1;33m(\u001b[0m\u001b[0mseries\u001b[0m\u001b[1;33m.\u001b[0m\u001b[0mdtype\u001b[0m\u001b[1;33m,\u001b[0m \u001b[1;34m\"tz\"\u001b[0m\u001b[1;33m,\u001b[0m \u001b[1;32mNone\u001b[0m\u001b[1;33m)\u001b[0m\u001b[1;33m)\u001b[0m\u001b[1;33m\u001b[0m\u001b[1;33m\u001b[0m\u001b[0m\n\u001b[0m\u001b[0;32m   4731\u001b[0m         \u001b[1;32mexcept\u001b[0m \u001b[0mKeyError\u001b[0m \u001b[1;32mas\u001b[0m \u001b[0me1\u001b[0m\u001b[1;33m:\u001b[0m\u001b[1;33m\u001b[0m\u001b[1;33m\u001b[0m\u001b[0m\n\u001b[0;32m   4732\u001b[0m             \u001b[1;32mif\u001b[0m \u001b[0mlen\u001b[0m\u001b[1;33m(\u001b[0m\u001b[0mself\u001b[0m\u001b[1;33m)\u001b[0m \u001b[1;33m>\u001b[0m \u001b[1;36m0\u001b[0m \u001b[1;32mand\u001b[0m \u001b[1;33m(\u001b[0m\u001b[0mself\u001b[0m\u001b[1;33m.\u001b[0m\u001b[0mholds_integer\u001b[0m\u001b[1;33m(\u001b[0m\u001b[1;33m)\u001b[0m \u001b[1;32mor\u001b[0m \u001b[0mself\u001b[0m\u001b[1;33m.\u001b[0m\u001b[0mis_boolean\u001b[0m\u001b[1;33m(\u001b[0m\u001b[1;33m)\u001b[0m\u001b[1;33m)\u001b[0m\u001b[1;33m:\u001b[0m\u001b[1;33m\u001b[0m\u001b[1;33m\u001b[0m\u001b[0m\n",
      "\u001b[1;32mpandas\\_libs\\index.pyx\u001b[0m in \u001b[0;36mpandas._libs.index.IndexEngine.get_value\u001b[1;34m()\u001b[0m\n",
      "\u001b[1;32mpandas\\_libs\\index.pyx\u001b[0m in \u001b[0;36mpandas._libs.index.IndexEngine.get_value\u001b[1;34m()\u001b[0m\n",
      "\u001b[1;32mpandas\\_libs\\index.pyx\u001b[0m in \u001b[0;36mpandas._libs.index.IndexEngine.get_loc\u001b[1;34m()\u001b[0m\n",
      "\u001b[1;32mpandas\\_libs\\index_class_helper.pxi\u001b[0m in \u001b[0;36mpandas._libs.index.Int64Engine._check_type\u001b[1;34m()\u001b[0m\n",
      "\u001b[1;31mKeyError\u001b[0m: 'Gm#'"
     ]
    }
   ],
   "source": [
    "#CSVs and dataframe\n",
    "fileList = [\"2009.csv\", \"2010.csv\", \"2011.csv\", \"2012.csv\", \"2013.csv\", \"2014.csv\",\"2015.csv\", \"2016.csv\", \"2017.csv\", \"2018.csv\"]\n",
    "for file in fileList:\n",
    "    apiRequest = pd.read_csv(f'API CSVs/{file}', encoding = \"UTF-8\")\n",
    "    apiRequestDF = pd.DataFrame(apiRequest)\n",
    "    apiRequestDF = apiRequestDF.drop(['Gm#'], axis = 1)\n",
    "    apiRequestDF = apiRequestDF.rename(columns = {'Tm':'Team', 'API DATE Format':'Date'})\n",
    "    print(f\"Printing:  {file}\")\n",
    "    print(f\"HEAD--\")\n",
    "    print(apiRequestDF.head(5))\n",
    "    print(f\"TAIL--\")\n",
    "    print(apiRequestDF.tail(5))\n",
    "    print(apiRequestDF.count())\n",
    "    print(apiRequestDF.axes)\n",
    "    print(f\"_____________________________________\")\n",
    "    print(f\"_____________________________________\")\n",
    "    print(\"\\n\\n\")\n",
    "    \n",
    "    #request as per each row in the current in memory dataframe\n",
    "    for row in apiRequest:\n",
    "        if (apiRequestDF[\"Team\"][row] == \"CHC\" and apiRequestDF[\"D/N\"][row] == 'D'):\n",
    "            queryWrigleyD = baseURL+f\"{WRIGLEY},\"+f'{apiRequestDF[\"Date\"][row]}'+f\"T13:00:00\"\n",
    "            #responseWD = requests.get(queryWrigleyD).json()\n",
    "            chiDay.append(queryWrigleyD)\n",
    "            print(f'{queryWrigleyD}')\n",
    "            \n",
    "        elif (apiRequestDF[\"Team\"][row] == \"BOS\" and apiRequestDF[\"D/N\"][row] == 'D'):\n",
    "            keyIndex = 1\n",
    "            queryFenwayD = baseURL+f\"{FENWAY},\"+f'{apiRequestDF[\"Date\"][row]}'+f\"T13:00:00\"\n",
    "            #responseFD= requests.get(queryFenwayD).json()\n",
    "            bosDay.append(queryFenwayD)\n",
    "            print(f'{queryFenwayD}')\n",
    "            \n",
    "        elif (apiRequestDF[\"Team\"][row] == \"CHC\" and apiRequestDF[\"D/N\"][row] == 'N'):\n",
    "            keyIndex = 2             \n",
    "            queryWrigleyN = baseURL+f'{WRIGLEY}'+f\",\"+f'{apiRequestDF[\"Date\"][row]}'+f\"T17:00:00\"\n",
    "            #responseWN = requests.get(queryWrigleyN).json()\n",
    "            chiNight.append(queryWrigleyN)\n",
    "            print(f'{queryWrigleyN}')\n",
    "                                \n",
    "        elif (apiRequestDF[\"Team\"][row] == \"BOS\" and apiRequestDF[\"D/n\"][row] == 'N'):\n",
    "            keyIndex = 0\n",
    "            queryFenwayN = baseURL+f'{FENWAY}'+\",\"+f'{apiRequestDF[\"Date\"][row]}'+\"T17:00:00\"\n",
    "            #responseFN= requests.get(queryFenwayN).json()\n",
    "            bosNight.append(queryFenwayN)\n",
    "            print(f'{queryFenwayN}')\n"
   ]
  },
  {
   "cell_type": "code",
   "execution_count": 18,
   "metadata": {},
   "outputs": [
    {
     "name": "stdout",
     "output_type": "stream",
     "text": [
      "Chi day:  0\n",
      "Bos day:  0\n",
      "Chi night:  0\n",
      "Bos night:  0\n"
     ]
    }
   ],
   "source": [
    "print(f'Chi day:  {len(chiDay)}')\n",
    "print(f'Bos day:  {len(bosDay)}')\n",
    "print(f'Chi night:  {len(chiNight)}')\n",
    "print(f'Bos night:  {len(bosNight)}')"
   ]
  },
  {
   "cell_type": "code",
   "execution_count": null,
   "metadata": {},
   "outputs": [],
   "source": []
  }
 ],
 "metadata": {
  "kernelspec": {
   "display_name": "Python 3",
   "language": "python",
   "name": "python3"
  },
  "language_info": {
   "codemirror_mode": {
    "name": "ipython",
    "version": 3
   },
   "file_extension": ".py",
   "mimetype": "text/x-python",
   "name": "python",
   "nbconvert_exporter": "python",
   "pygments_lexer": "ipython3",
   "version": "3.7.3"
  }
 },
 "nbformat": 4,
 "nbformat_minor": 2
}
