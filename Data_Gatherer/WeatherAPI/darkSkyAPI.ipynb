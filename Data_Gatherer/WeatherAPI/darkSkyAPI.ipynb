{
 "cells": [
  {
   "cell_type": "code",
   "execution_count": 2,
   "metadata": {},
   "outputs": [],
   "source": [
    "#NWU Data Science Boot Camp\n",
    "#Project 1\n",
    "#Weather data API script request\n",
    "\n",
    "\n",
    "#call modules and dependencies\n",
    "import pandas as pd\n",
    "import requests\n",
    "from config import apiKey"
   ]
  },
  {
   "cell_type": "code",
   "execution_count": null,
   "metadata": {},
   "outputs": [],
   "source": [
    "#declare date range lists and vars\n",
    "year = [\"2009\", \"2010\", \"2011\", \"2012\", \"2013\", \"2014\", \"2015\", \"2016\", \"2017\", \"2018\"]\n",
    "month = [\"04\", \"05\", \"06\", \"07\", \"08\", \"09\"]\n",
    "day = [\"01\", \"02\", \"03\", \"04\", \"05\", \"06\", \"07\", \"08\", \"09\", \"10\",\n",
    "      \"11\", \"12\", \"13\", \"14\", \"15\", \"16\", \"17\", \"18\",\"19\",\"20\",\n",
    "      \"21\", \"22\", \"23\", \"24\", \"25\", \"26\", \"27\", \"28\", \"29\", \"30\", \"31\"]\n",
    "fenway = \"42.34625, -71.09775\"\n",
    "wrigley = \"41.948038, -87.65568\"\n",
    "city = {\"fenway\":\"42.34625, -71.09775\",\n",
    "       \"wrigley\":\"41.948038, -87.65568\"}\n",
    "\n",
    "baseURL = f\"https://api.darksky.net/forecast/{apiKey}/{city},{time}\""
   ]
  }
 ],
 "metadata": {
  "kernelspec": {
   "display_name": "Python 3",
   "language": "python",
   "name": "python3"
  },
  "language_info": {
   "codemirror_mode": {
    "name": "ipython",
    "version": 3
   },
   "file_extension": ".py",
   "mimetype": "text/x-python",
   "name": "python",
   "nbconvert_exporter": "python",
   "pygments_lexer": "ipython3",
   "version": "3.7.3"
  }
 },
 "nbformat": 4,
 "nbformat_minor": 2
}
